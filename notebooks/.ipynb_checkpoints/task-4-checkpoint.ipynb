{
 "cells": [
  {
   "cell_type": "code",
   "execution_count": null,
   "metadata": {},
   "outputs": [],
   "source": [
    "import pandas as pd\n",
    "from sklearn.model_selection import train_test_split\n",
    "from sklearn.preprocessing import OneHotEncoder\n",
    "\n",
    "def load_data(file_path):\n",
    "    return pd.read_csv(file_path)\n",
    "\n",
    "def handle_missing_data(df):\n",
    "    df = df.fillna(df.mean())\n",
    "    df = df.dropna()\n",
    "    return df\n",
    "\n",
    "def encode_categorical_data(df, categorical_columns):\n",
    "    encoder = OneHotEncoder(drop='first', sparse=False)\n",
    "    encoded_cols = pd.DataFrame(encoder.fit_transform(df[categorical_columns]), columns=encoder.get_feature_names_out(categorical_columns))\n",
    "    df = df.drop(categorical_columns, axis=1)\n",
    "    df = pd.concat([df, encoded_cols], axis=1)\n",
    "    return df\n",
    "\n",
    "def feature_engineering(df):\n",
    "    #feature based on existing data\n",
    "    df['ClaimRatio'] = df['TotalClaims'] / df['TotalPremium']\n",
    "    return df\n",
    "\n",
    "def prepare_data(df, target_column, test_size=0.3):\n",
    "    y = df[target_column]\n",
    "    X = df.drop(columns=[target_column])\n",
    "    X_train, X_test, y_train, y_test = train_test_split(X, y, test_size=test_size, random_state=42)\n",
    "    return X_train, X_test, y_train, y_test\n",
    "\n",
    "# Load and prepare data\n",
    "df = load_data('/home/yadasa/Desktop/InsuranceDataAnalysis/data/datasets/model_data.csv', low_memory=False)\n",
    "df = handle_missing_data(df)\n",
    "categorical_columns = ['Gender', 'Province']\n",
    "df = encode_categorical_data(df, categorical_columns)\n",
    "df = feature_engineering(df)\n",
    "X_train, X_test, y_train, y_test = prepare_data(df, target_column='TotalClaims')\n"
   ]
  },
  {
   "cell_type": "markdown",
   "metadata": {},
   "source": [
    "# Linear Regression"
   ]
  },
  {
   "cell_type": "code",
   "execution_count": null,
   "metadata": {},
   "outputs": [],
   "source": [
    "from sklearn.linear_model import LinearRegression\n",
    "from sklearn.metrics import mean_squared_error, r2_score\n",
    "import time\n",
    "\n",
    "def train_linear_regression(X_train, y_train):\n",
    "    start_time = time.time()\n",
    "    model = LinearRegression()\n",
    "    model.fit(X_train, y_train)\n",
    "    training_time = time.time() - start_time\n",
    "    return model, training_time\n",
    "\n",
    "def evaluate_model(model, X_test, y_test):\n",
    "    predictions = model.predict(X_test)\n",
    "    mse = mean_squared_error(y_test, predictions)\n",
    "    r2 = r2_score(y_test, predictions)\n",
    "    return mse, r2\n",
    "\n",
    "# Train and evaluate Linear Regression\n",
    "lr_model, lr_time = train_linear_regression(X_train, y_train)\n",
    "lr_mse, lr_r2 = evaluate_model(lr_model, X_test, y_test)\n"
   ]
  },
  {
   "cell_type": "code",
   "execution_count": null,
   "metadata": {},
   "outputs": [],
   "source": [
    "print(\"Linear Regression Model Evaluation:\")\n",
    "print(\"Mean Squared Error (MSE):\", lr_mse)\n",
    "print(\"R-squared (R2) Score:\", lr_r2)\n",
    "print(\"Training Time:\", lr_time)\n"
   ]
  },
  {
   "cell_type": "markdown",
   "metadata": {},
   "source": [
    "# Random Forest"
   ]
  },
  {
   "cell_type": "code",
   "execution_count": null,
   "metadata": {},
   "outputs": [],
   "source": [
    "from sklearn.ensemble import RandomForestRegressor\n",
    "\n",
    "def train_random_forest(X_train, y_train):\n",
    "    start_time = time.time()\n",
    "    model = RandomForestRegressor(n_estimators=100, random_state=42)\n",
    "    model.fit(X_train, y_train)\n",
    "    training_time = time.time() - start_time\n",
    "    return model, training_time\n",
    "\n",
    "def get_feature_importance(model, feature_names):\n",
    "    feature_importances = model.feature_importances_\n",
    "    return pd.DataFrame({'Feature': feature_names, 'Importance': feature_importances}).sort_values(by='Importance', ascending=False)\n",
    "\n",
    "# Train and evaluate Random Forest\n",
    "rf_model, rf_time = train_random_forest(X_train, y_train)\n",
    "rf_mse, rf_r2 = evaluate_model(rf_model, X_test, y_test)\n",
    "rf_importance = get_feature_importance(rf_model, X_train.columns)\n"
   ]
  },
  {
   "cell_type": "code",
   "execution_count": null,
   "metadata": {},
   "outputs": [],
   "source": [
    "print(\"Linear Regression Model Evaluation:\")\n",
    "print(\"Mean Squared Error (MSE):\", rf_mse)\n",
    "print(\"R-squared (R2) Score:\", rf_r2)\n",
    "print(\"Training Time:\", rf_time)"
   ]
  },
  {
   "cell_type": "code",
   "execution_count": null,
   "metadata": {},
   "outputs": [],
   "source": [
    "train_random_forest()"
   ]
  },
  {
   "cell_type": "markdown",
   "metadata": {},
   "source": [
    "# XGBoost"
   ]
  },
  {
   "cell_type": "code",
   "execution_count": null,
   "metadata": {},
   "outputs": [],
   "source": [
    "from xgboost import XGBRegressor\n",
    "\n",
    "def train_xgboost(X_train, y_train):\n",
    "    start_time = time.time()\n",
    "    model = XGBRegressor(n_estimators=100, random_state=42)\n",
    "    model.fit(X_train, y_train)\n",
    "    training_time = time.time() - start_time\n",
    "    return model, training_time\n",
    "\n",
    "# Train and evaluate XGBoost\n",
    "xgb_model, xgb_time = train_xgboost(X_train, y_train)\n",
    "xgb_mse, xgb_r2 = evaluate_model(xgb_model, X_test, y_test)\n",
    "xgb_importance = get_feature_importance(xgb_model, X_train.columns)\n"
   ]
  },
  {
   "cell_type": "code",
   "execution_count": null,
   "metadata": {},
   "outputs": [],
   "source": [
    "print(\"Linear Regression Model Evaluation:\")\n",
    "print(\"Mean Squared Error (MSE):\", xgb_mse)\n",
    "print(\"R-squared (R2) Score:\", xgb_r2)\n",
    "print(\"Training Time:\", xgb_time)"
   ]
  },
  {
   "cell_type": "markdown",
   "metadata": {},
   "source": [
    "# Hyperparameter Tuning with GridSearchCV"
   ]
  },
  {
   "cell_type": "code",
   "execution_count": null,
   "metadata": {},
   "outputs": [],
   "source": [
    "from sklearn.model_selection import GridSearchCV\n",
    "\n",
    "# Hyperparameter tuning for Random Forest\n",
    "rf_param_grid = {\n",
    "    'n_estimators': [50, 100, 200],\n",
    "    'max_depth': [None, 10, 20, 30],\n",
    "    'min_samples_split': [2, 5, 10],\n",
    "    'min_samples_leaf': [1, 2, 4]\n",
    "}\n",
    "\n",
    "rf_grid_search = GridSearchCV(RandomForestRegressor(random_state=42), rf_param_grid, cv=3, scoring='neg_mean_squared_error')\n",
    "rf_grid_search.fit(X_train, y_train)\n",
    "best_rf_model = rf_grid_search.best_estimator_\n",
    "best_rf_params = rf_grid_search.best_params_\n",
    "best_rf_mse, best_rf_r2 = evaluate_model(best_rf_model, X_test, y_test)\n",
    "best_rf_importance = get_feature_importance(best_rf_model, X_train.columns)\n",
    "\n",
    "# Hyperparameter tuning for XGBoost\n",
    "xgb_param_grid = {\n",
    "    'n_estimators': [50, 100, 200],\n",
    "    'max_depth': [3, 6, 9],\n",
    "    'learning_rate': [0.01, 0.1, 0.3],\n",
    "    'subsample': [0.8, 1.0],\n",
    "    'colsample_bytree': [0.8, 1.0]\n",
    "}\n",
    "\n",
    "xgb_grid_search = GridSearchCV(XGBRegressor(random_state=42), xgb_param_grid, cv=3, scoring='neg_mean_squared_error')\n",
    "xgb_grid_search.fit(X_train, y_train)\n",
    "best_xgb_model = xgb_grid_search.best_estimator_\n",
    "best_xgb_params = xgb_grid_search.best_params_\n",
    "best_xgb_mse, best_xgb_r2 = evaluate_model(best_xgb_model, X_test, y_test)\n",
    "best_xgb_importance = get_feature_importance(best_xgb_model, X_train.columns)\n"
   ]
  },
  {
   "cell_type": "markdown",
   "metadata": {},
   "source": [
    "\n",
    "# Feature Importance"
   ]
  },
  {
   "cell_type": "code",
   "execution_count": null,
   "metadata": {},
   "outputs": [],
   "source": [
    "import matplotlib.pyplot as plt\n",
    "\n",
    "def plot_feature_importance(feature_importance, title):\n",
    "    plt.figure(figsize=(10, 6))\n",
    "    plt.title(title)\n",
    "    plt.barh(feature_importance['Feature'], feature_importance['Importance'], color='b', align='center')\n",
    "    plt.xlabel('Feature Importance')\n",
    "    plt.ylabel('Feature')\n",
    "    plt.show()\n",
    "\n",
    "plot_feature_importance(rf_importance, title=\"Random Forest Feature Importance\")\n",
    "plot_feature_importance(xgb_importance, title=\"XGBoost Feature Importance\")\n"
   ]
  },
  {
   "cell_type": "markdown",
   "metadata": {},
   "source": [
    "# Model Performance"
   ]
  },
  {
   "cell_type": "code",
   "execution_count": null,
   "metadata": {},
   "outputs": [],
   "source": [
    "pip install xgboost"
   ]
  },
  {
   "cell_type": "code",
   "execution_count": null,
   "metadata": {},
   "outputs": [],
   "source": [
    "def plot_model_performance(models, mse_scores, r2_scores, training_times):\n",
    "    fig, axes = plt.subplots(1, 3, figsize=(18, 5))\n",
    "\n",
    "    axes[0].bar(models, mse_scores, color='blue')\n",
    "    axes[0].set_title('Mean Squared Error')\n",
    "    axes[0].set_xlabel('Models')\n",
    "    axes[0].set_ylabel('MSE')\n",
    "\n",
    "    axes[1].bar(models, r2_scores, color='green')\n",
    "    axes[1].set_title('R^2 Score')\n",
    "    axes[1].set_xlabel('Models')\n",
    "    axes[1].set_ylabel('R^2')\n",
    "\n",
    "    axes[2].bar(models, training_times, color='red')\n",
    "    axes[2].set_title('Training Time (seconds)')\n",
    "    axes[2].set_xlabel('Models')\n",
    "    axes[2].set_ylabel('Time')\n",
    "\n",
    "    plt.show()\n",
    "\n",
    "models = [\"Linear Regression\", \"Random Forest\", \"XGBoost\"]\n",
    "mse_scores = [lr_mse, best_rf_mse, best_xgb_mse]\n",
    "r2_scores = [lr_r2, best_rf_r2, best_xgb_r2]\n",
    "training_times = [lr_time, rf_time, xgb_time]\n",
    "\n",
    "plot_model_performance(models, mse_scores, r2_scores, training_times)\n"
   ]
  },
  {
   "cell_type": "code",
   "execution_count": null,
   "metadata": {},
   "outputs": [],
   "source": []
  }
 ],
 "metadata": {
  "kernelspec": {
   "display_name": "Python 3 (ipykernel)",
   "language": "python",
   "name": "python3"
  },
  "language_info": {
   "codemirror_mode": {
    "name": "ipython",
    "version": 3
   },
   "file_extension": ".py",
   "mimetype": "text/x-python",
   "name": "python",
   "nbconvert_exporter": "python",
   "pygments_lexer": "ipython3",
   "version": "3.10.12"
  }
 },
 "nbformat": 4,
 "nbformat_minor": 4
}
