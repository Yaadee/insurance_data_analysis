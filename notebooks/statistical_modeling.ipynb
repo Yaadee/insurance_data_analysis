{
 "cells": [
  {
   "cell_type": "code",
   "execution_count": 5,
   "metadata": {},
   "outputs": [],
   "source": [
    "import pandas as pd\n",
    "import matplotlib as plt\n",
    "import seaborn as sns\n",
    "import numpy as np\n"
   ]
  },
  {
   "cell_type": "code",
   "execution_count": 4,
   "metadata": {},
   "outputs": [],
   "source": [
    "data=pd.read_csv(\"/home/yadasa/Desktop/InsuranceDataAnalysis/scripts/preprocessed_data.csv\",low_memory=False)"
   ]
  },
  {
   "cell_type": "code",
   "execution_count": 6,
   "metadata": {},
   "outputs": [
    {
     "name": "stdout",
     "output_type": "stream",
     "text": [
      "Distribution of Claim-Premium Ratio:\n",
      "Claim_Premium_Ratio\n",
      "-18.700122           1\n",
      "-9.973686            1\n",
      " 0.000000       615821\n",
      " 0.023098            1\n",
      " 0.034732            2\n",
      "                 ...  \n",
      " 1475.828045         1\n",
      " 1485.751642         1\n",
      " 1614.087195         1\n",
      " 2336.981815         1\n",
      " 2553.600000         1\n",
      "Name: count, Length: 1759, dtype: int64\n"
     ]
    }
   ],
   "source": [
    "# Check for missing or zero values in 'TotalPremium' before calculating the ratio\n",
    "missing_or_zero_premium = data['TotalPremium'].isnull() | (data['TotalPremium'] == 0)\n",
    "\n",
    "# Calculate the ratio of TotalClaims to TotalPremium, handling missing or zero values\n",
    "data['Claim_Premium_Ratio'] = np.where(missing_or_zero_premium, np.nan, data['TotalClaims'] / data['TotalPremium'])\n",
    "\n",
    "# Print the distribution of Claim_Premium_Ratio\n",
    "ratio_counts = data['Claim_Premium_Ratio'].value_counts().sort_index()\n",
    "print(\"Distribution of Claim-Premium Ratio:\")\n",
    "print(ratio_counts)"
   ]
  },
  {
   "cell_type": "code",
   "execution_count": 8,
   "metadata": {},
   "outputs": [
    {
     "name": "stdout",
     "output_type": "stream",
     "text": [
      "Extreme Outliers:\n",
      "        UnderwrittenCoverID  PolicyID  TransactionMonth  IsVATRegistered  \\\n",
      "284                   82062      7174                 1             True   \n",
      "1560                 119591      8672                 1            False   \n",
      "1779                  50193       283                 1            False   \n",
      "1943                 119582      8672                 1            False   \n",
      "2072                  16821       839                 1            False   \n",
      "...                     ...       ...               ...              ...   \n",
      "997635                 1299       164                 1            False   \n",
      "998848                  937       138                 1            False   \n",
      "999218                 3255       394                 1            False   \n",
      "999701               238713     20611                 1            False   \n",
      "999923                15310       361                 1            False   \n",
      "\n",
      "       Citizenship  LegalType Title Language                 Bank  \\\n",
      "284                         0    Mr  English  First National Bank   \n",
      "1560                        0    Mr  English  First National Bank   \n",
      "1779                        0    Mr  English        Standard Bank   \n",
      "1943                        0    Mr  English  First National Bank   \n",
      "2072                        1    Dr  English        Standard Bank   \n",
      "...            ...        ...   ...      ...                  ...   \n",
      "997635          ZA          1   Mrs  English            ABSA Bank   \n",
      "998848          ZA          3    Mr  English     RMB Private Bank   \n",
      "999218          ZA          3    Mr  English     RMB Private Bank   \n",
      "999701          ZA          3    Mr  English     RMB Private Bank   \n",
      "999923          ZA          3    Ms  English        Standard Bank   \n",
      "\n",
      "            AccountType  ...                             Product  \\\n",
      "284     Current account  ...     Mobility Metered Taxis: Monthly   \n",
      "1560    Current account  ...     Mobility Metered Taxis: Monthly   \n",
      "1779    Current account  ...  Mobility Commercial Cover: Monthly   \n",
      "1943    Current account  ...     Mobility Metered Taxis: Monthly   \n",
      "2072    Savings account  ...  Mobility Commercial Cover: Monthly   \n",
      "...                 ...  ...                                 ...   \n",
      "997635  Current account  ...  Mobility Commercial Cover: Monthly   \n",
      "998848  Current account  ...  Mobility Commercial Cover: Monthly   \n",
      "999218  Current account  ...  Mobility Commercial Cover: Monthly   \n",
      "999701  Current account  ...        Bridge Taxi Finance: Monthly   \n",
      "999923  Current account  ...     Mobility Metered Taxis: Monthly   \n",
      "\n",
      "       StatutoryClass StatutoryRiskType  TotalPremium    TotalClaims  \\\n",
      "284        Commercial     IFRS Constant     21.929825    2040.473684   \n",
      "1560       Commercial     IFRS Constant   1213.889211   46492.211754   \n",
      "1779       Commercial     IFRS Constant    645.017456   26516.859649   \n",
      "1943       Commercial     IFRS Constant     74.561404    6140.350877   \n",
      "2072       Commercial     IFRS Constant     74.561404    4385.964912   \n",
      "...               ...               ...           ...            ...   \n",
      "997635     Commercial     IFRS Constant     15.789474    2968.705263   \n",
      "998848     Commercial     IFRS Constant    613.519737   40011.859649   \n",
      "999218     Commercial     IFRS Constant    836.004912  101812.517544   \n",
      "999701     Commercial     IFRS Constant    650.879211  155317.578947   \n",
      "999923     Commercial     IFRS Constant    378.672193   28903.850877   \n",
      "\n",
      "       TransactionYear Gender_Male  Gender_Not specified Gender_Unknown  \\\n",
      "284               1970       False                  True          False   \n",
      "1560              1970       False                  True          False   \n",
      "1779              1970       False                  True          False   \n",
      "1943              1970       False                  True          False   \n",
      "2072              1970       False                  True          False   \n",
      "...                ...         ...                   ...            ...   \n",
      "997635            1970       False                  True          False   \n",
      "998848            1970       False                 False           True   \n",
      "999218            1970       False                 False           True   \n",
      "999701            1970       False                  True          False   \n",
      "999923            1970       False                 False          False   \n",
      "\n",
      "        Claim_Premium_Ratio  \n",
      "284               93.045600  \n",
      "1560              38.300210  \n",
      "1779              41.110298  \n",
      "1943              82.352941  \n",
      "2072              58.823529  \n",
      "...                     ...  \n",
      "997635           188.018000  \n",
      "998848            65.216907  \n",
      "999218           121.784592  \n",
      "999701           238.627347  \n",
      "999923            76.329478  \n",
      "\n",
      "[2641 rows x 56 columns]\n",
      "Number of extreme outliers removed: 2641\n",
      "Remaining data points after outlier removal: 615823\n"
     ]
    }
   ],
   "source": [
    "# Define the threshold for extreme outliers (e.g., 99th percentile)\n",
    "threshold = data['Claim_Premium_Ratio'].quantile(0.99)\n",
    "\n",
    "# Identify extreme outliers\n",
    "extreme_outliers = data[data['Claim_Premium_Ratio'] > threshold]\n",
    "\n",
    "# Remove extreme outliers from the dataset\n",
    "cleaned_df = data[data['Claim_Premium_Ratio'] <= threshold]\n",
    "\n",
    "# Print information about extreme outliers\n",
    "print(\"Extreme Outliers:\")\n",
    "print(extreme_outliers)\n",
    "\n",
    "# Print information about the handling process\n",
    "print(f\"Number of extreme outliers removed: {len(extreme_outliers)}\")\n",
    "print(f\"Remaining data points after outlier removal: {len(cleaned_df)}\")\n",
    "# Save the cleaned dataset to a CSV file\n",
    "cleaned_df.to_csv('cleaned_data.csv', index=False)\n"
   ]
  }
 ],
 "metadata": {
  "kernelspec": {
   "display_name": "venv",
   "language": "python",
   "name": "python3"
  },
  "language_info": {
   "codemirror_mode": {
    "name": "ipython",
    "version": 3
   },
   "file_extension": ".py",
   "mimetype": "text/x-python",
   "name": "python",
   "nbconvert_exporter": "python",
   "pygments_lexer": "ipython3",
   "version": "3.10.12"
  }
 },
 "nbformat": 4,
 "nbformat_minor": 2
}
